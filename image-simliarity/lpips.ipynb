{
 "cells": [
  {
   "cell_type": "code",
   "execution_count": 1,
   "metadata": {},
   "outputs": [
    {
     "name": "stdout",
     "output_type": "stream",
     "text": [
      "Setting up [LPIPS] perceptual loss: trunk [alex], v[0.1], spatial [off]\n",
      "Loading model from: /Users/minha/dev/tinova/ai-copyright-portection/.venv/lib/python3.9/site-packages/lpips/weights/v0.1/alex.pth\n",
      "Setting up [LPIPS] perceptual loss: trunk [vgg], v[0.1], spatial [off]\n",
      "Downloading: \"https://download.pytorch.org/models/vgg16-397923af.pth\" to /Users/minha/.cache/torch/hub/checkpoints/vgg16-397923af.pth\n"
     ]
    },
    {
     "name": "stderr",
     "output_type": "stream",
     "text": [
      "100%|██████████| 528M/528M [00:45<00:00, 12.0MB/s] \n"
     ]
    },
    {
     "name": "stdout",
     "output_type": "stream",
     "text": [
      "Loading model from: /Users/minha/dev/tinova/ai-copyright-portection/.venv/lib/python3.9/site-packages/lpips/weights/v0.1/vgg.pth\n"
     ]
    }
   ],
   "source": [
    "import lpips\n",
    "loss_fn_alex = lpips.LPIPS(net='alex') # best forward scores\n",
    "loss_fn_vgg = lpips.LPIPS(net='vgg') # closer to \"traditional\" perceptual loss, when used for optimization\n",
    "\n",
    "import torch\n",
    "img0 = torch.zeros(1,3,64,64) # image should be RGB, IMPORTANT: normalized to [-1,1]\n",
    "img1 = torch.zeros(1,3,64,64)\n",
    "d = loss_fn_alex(img0, img1)"
   ]
  },
  {
   "cell_type": "code",
   "execution_count": 6,
   "metadata": {},
   "outputs": [
    {
     "name": "stdout",
     "output_type": "stream",
     "text": [
      "LPIPS distance: 0.373117595911026\n"
     ]
    }
   ],
   "source": [
    "from PIL import Image\n",
    "import torchvision.transforms as transforms\n",
    "\n",
    "# 이미지 로드 및 전처리\n",
    "def load_image(path):\n",
    "    image = Image.open(path).convert('RGB')\n",
    "    transform = transforms.Compose([\n",
    "        transforms.Resize((256, 256)),\n",
    "        transforms.ToTensor(),\n",
    "        transforms.Normalize([0.5]*3, [0.5]*3)  # LPIPS는 [-1, 1] 입력 필요\n",
    "    ])\n",
    "    return transform(image).unsqueeze(0)\n",
    "\n",
    "img_path1 = load_image(\"../data/images/dataset/ex1.jpeg\")\n",
    "img_path2 = load_image(\"../data/images/dataset/ex2.jpeg\")\n",
    "\n",
    "# 유사도 계산\n",
    "with torch.no_grad():\n",
    "    dist = loss_fn_alex(img_path1, img_path2)\n",
    "\n",
    "print(\"LPIPS distance:\", dist.item())  # 0에 가까울수록 유사함"
   ]
  },
  {
   "cell_type": "markdown",
   "metadata": {},
   "source": [
    "| LPIPS 점수     | 유사도 평가 | 비고                          |\n",
    "| ------------ | ------ | --------------------------- |\n",
    "| 0.00 \\~ 0.20 | 매우 유사  | 구도, 색감, 질감까지 거의 동일한 경우 많음   |\n",
    "| 0.20 \\~ 0.40 | 부분 유사  | 구성이나 스타일 유사하지만 세부 디테일 차이 있음 |\n",
    "| 0.40 \\~ 0.70 | 낮은 유사도 | 대체로 다른 그림으로 간주됨             |\n",
    "| 0.70 \\~ 1.00 | 거의 무관  | 전혀 다른 이미지                   |\n"
   ]
  }
 ],
 "metadata": {
  "kernelspec": {
   "display_name": ".venv",
   "language": "python",
   "name": "python3"
  },
  "language_info": {
   "codemirror_mode": {
    "name": "ipython",
    "version": 3
   },
   "file_extension": ".py",
   "mimetype": "text/x-python",
   "name": "python",
   "nbconvert_exporter": "python",
   "pygments_lexer": "ipython3",
   "version": "3.9.13"
  }
 },
 "nbformat": 4,
 "nbformat_minor": 2
}
