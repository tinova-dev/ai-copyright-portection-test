{
 "cells": [
  {
   "cell_type": "code",
   "execution_count": 16,
   "metadata": {},
   "outputs": [
    {
     "name": "stdout",
     "output_type": "stream",
     "text": [
      "Setting up [LPIPS] perceptual loss: trunk [alex], v[0.1], spatial [off]\n",
      "Loading model from: /Users/minha/dev/tinova/ai-copyright-portection/.venv/lib/python3.9/site-packages/lpips/weights/v0.1/alex.pth\n",
      "Setting up [LPIPS] perceptual loss: trunk [vgg], v[0.1], spatial [off]\n",
      "Loading model from: /Users/minha/dev/tinova/ai-copyright-portection/.venv/lib/python3.9/site-packages/lpips/weights/v0.1/vgg.pth\n"
     ]
    }
   ],
   "source": [
    "import lpips\n",
    "loss_fn_alex = lpips.LPIPS(net='alex') # best forward scores\n",
    "loss_fn_vgg = lpips.LPIPS(net='vgg') # closer to \"traditional\" perceptual loss, when used for optimization\n",
    "\n",
    "import torch\n",
    "img0 = torch.zeros(1,3,64,64) # image should be RGB, IMPORTANT: normalized to [-1,1]\n",
    "img1 = torch.zeros(1,3,64,64)\n",
    "d = loss_fn_alex(img0, img1)"
   ]
  },
  {
   "cell_type": "code",
   "execution_count": 17,
   "metadata": {},
   "outputs": [
    {
     "name": "stdout",
     "output_type": "stream",
     "text": [
      "LPIPS distance: 0.373117595911026\n"
     ]
    }
   ],
   "source": [
    "from PIL import Image\n",
    "import torchvision.transforms as transforms\n",
    "\n",
    "# 이미지 로드 및 전처리\n",
    "def load_image(path):\n",
    "    image = Image.open(path).convert('RGB')\n",
    "    transform = transforms.Compose([\n",
    "        transforms.Resize((256, 256)),\n",
    "        transforms.ToTensor(),\n",
    "        transforms.Normalize([0.5]*3, [0.5]*3)  # LPIPS는 [-1, 1] 입력 필요\n",
    "    ])\n",
    "    return transform(image).unsqueeze(0)\n",
    "\n",
    "img_path1 = load_image(\"../data/images/dataset/ex1.jpeg\")\n",
    "img_path2 = load_image(\"../data/images/dataset/ex2.jpeg\")\n",
    "\n",
    "# 유사도 계산\n",
    "with torch.no_grad():\n",
    "    dist = loss_fn_alex(img_path1, img_path2)\n",
    "\n",
    "print(\"LPIPS distance:\", dist.item())  # 0에 가까울수록 유사함"
   ]
  },
  {
   "cell_type": "markdown",
   "metadata": {},
   "source": [
    "| LPIPS 점수     | 유사도 평가 | 비고                          |\n",
    "| ------------ | ------ | --------------------------- |\n",
    "| 0.00 \\~ 0.20 | 매우 유사  | 구도, 색감, 질감까지 거의 동일한 경우 많음   |\n",
    "| 0.20 \\~ 0.40 | 부분 유사  | 구성이나 스타일 유사하지만 세부 디테일 차이 있음 |\n",
    "| 0.40 \\~ 0.70 | 낮은 유사도 | 대체로 다른 그림으로 간주됨             |\n",
    "| 0.70 \\~ 1.00 | 거의 무관  | 전혀 다른 이미지                   |"
   ]
  },
  {
   "cell_type": "markdown",
   "metadata": {},
   "source": [
    "### Style Loss 손실 함수 추가"
   ]
  },
  {
   "cell_type": "code",
   "execution_count": 34,
   "metadata": {},
   "outputs": [
    {
     "name": "stdout",
     "output_type": "stream",
     "text": [
      "Setting up [LPIPS] perceptual loss: trunk [alex], v[0.1], spatial [off]\n",
      "Loading model from: /Users/minha/dev/tinova/ai-copyright-portection/.venv/lib/python3.9/site-packages/lpips/weights/v0.1/alex.pth\n"
     ]
    }
   ],
   "source": [
    "# 디바이스 설정\n",
    "device = torch.device(\"mps\" if torch.backends.mps.is_available() else \"cuda\" if torch.cuda.is_available() else \"cpu\")\n",
    "\n",
    "# LPIPS 모델 로딩\n",
    "lpips_model = lpips.LPIPS(net='alex')\n",
    "lpips_model = lpips_model.to(device)  # 여기까지는 잘 하고 있음\n",
    "\n",
    "# 내부 ScalingLayer 문제 해결을 위해 모델 내부도 옮겨야 함\n",
    "lpips_model.scaling_layer.shift = lpips_model.scaling_layer.shift.to(device)\n",
    "lpips_model.scaling_layer.scale = lpips_model.scaling_layer.scale.to(device)"
   ]
  },
  {
   "cell_type": "code",
   "execution_count": 35,
   "metadata": {},
   "outputs": [],
   "source": [
    "# Gram Matrix 계산\n",
    "\n",
    "def gram_matrix(tensor):\n",
    "    b, c, h, w = tensor.size()\n",
    "    features = tensor.view(b, c, h * w)\n",
    "    G = torch.bmm(features, features.transpose(1, 2))\n",
    "    return G / (c * h * w)"
   ]
  },
  {
   "cell_type": "code",
   "execution_count": 36,
   "metadata": {},
   "outputs": [],
   "source": [
    "# StyleLoss 클래스\n",
    "import torch.nn as nn\n",
    "import torchvision.models as models\n",
    "\n",
    "device = 'mps'\n",
    "\n",
    "class StyleLoss(nn.Module):\n",
    "    def __init__(self, target_feature):\n",
    "        super(StyleLoss, self).__init__()\n",
    "        self.target = gram_matrix(target_feature).detach()\n",
    "\n",
    "    def forward(self, input):\n",
    "        G = gram_matrix(input)\n",
    "        loss = nn.functional.mse_loss(G, self.target)\n",
    "        return loss"
   ]
  },
  {
   "cell_type": "code",
   "execution_count": 37,
   "metadata": {},
   "outputs": [],
   "source": [
    "# VGG에서 style feature 추출\n",
    "def get_style_feature(image, layer_idx=0):    \n",
    "    vgg = models.vgg19(pretrained=True).features.to(device).eval()\n",
    "    for i, layer in enumerate(vgg):\n",
    "        image = layer(image)\n",
    "        if i == layer_idx:\n",
    "            return image\n",
    "    raise ValueError(\"Layer index too high\")"
   ]
  },
  {
   "cell_type": "code",
   "execution_count": 40,
   "metadata": {},
   "outputs": [],
   "source": [
    "# 유사도 계산\n",
    "def compute_similarity(img_path1, img_path2, alpha=0.5, beta=0.5):\n",
    "    img1 = load_image(img_path1).to(device)\n",
    "    img2 = load_image(img_path2).to(device)\n",
    "\n",
    "    # LPIPS\n",
    "    lpips_model = lpips.LPIPS(net='alex').to(device)\n",
    "    lpips_score = lpips_model(img1, img2).item()\n",
    "\n",
    "    # Style Loss\n",
    "    feat1 = get_style_feature(img1, layer_idx=10)  # conv3_1\n",
    "    feat2 = get_style_feature(img2, layer_idx=10)\n",
    "    style_loss_fn = StyleLoss(feat1)\n",
    "    style_score = style_loss_fn(feat2).item()\n",
    "\n",
    "    # Normalize style score (선택적)\n",
    "    style_score = min(style_score, 1.0)\n",
    "\n",
    "    # 조합 점수 (가중치 합산)\n",
    "    final_score = alpha * lpips_score + beta * style_score\n",
    "\n",
    "    return {\n",
    "        \"lpips_score\": lpips_score,\n",
    "        \"style_score\": style_score,\n",
    "        \"combined_score\": final_score\n",
    "    }"
   ]
  },
  {
   "cell_type": "code",
   "execution_count": 41,
   "metadata": {},
   "outputs": [
    {
     "name": "stdout",
     "output_type": "stream",
     "text": [
      "Setting up [LPIPS] perceptual loss: trunk [alex], v[0.1], spatial [off]\n",
      "Loading model from: /Users/minha/dev/tinova/ai-copyright-portection/.venv/lib/python3.9/site-packages/lpips/weights/v0.1/alex.pth\n",
      "Downloading: \"https://download.pytorch.org/models/vgg19-dcbb9e9d.pth\" to /Users/minha/.cache/torch/hub/checkpoints/vgg19-dcbb9e9d.pth\n"
     ]
    },
    {
     "name": "stderr",
     "output_type": "stream",
     "text": [
      "100%|██████████| 548M/548M [00:47<00:00, 12.0MB/s] \n"
     ]
    },
    {
     "name": "stdout",
     "output_type": "stream",
     "text": [
      "LPIPS: 0.3731175661087036\n",
      "Style Loss: 6.617650797124952e-05\n",
      "Combined Score: 0.18659187130833743\n"
     ]
    }
   ],
   "source": [
    "img_path1 = load_image(\"../data/images/dataset/ex1.jpeg\")\n",
    "img_path2 = load_image(\"../data/images/dataset/ex2.jpeg\")\n",
    "\n",
    "result = compute_similarity(\"../data/images/dataset/ex1.jpeg\", \"../data/images/dataset/ex2.jpeg\")\n",
    "\n",
    "print(\"LPIPS:\", result[\"lpips_score\"])\n",
    "print(\"Style Loss:\", result[\"style_score\"])\n",
    "print(\"Combined Score:\", result[\"combined_score\"])"
   ]
  },
  {
   "cell_type": "code",
   "execution_count": null,
   "metadata": {},
   "outputs": [],
   "source": []
  }
 ],
 "metadata": {
  "kernelspec": {
   "display_name": ".venv",
   "language": "python",
   "name": "python3"
  },
  "language_info": {
   "codemirror_mode": {
    "name": "ipython",
    "version": 3
   },
   "file_extension": ".py",
   "mimetype": "text/x-python",
   "name": "python",
   "nbconvert_exporter": "python",
   "pygments_lexer": "ipython3",
   "version": "3.9.13"
  }
 },
 "nbformat": 4,
 "nbformat_minor": 2
}
