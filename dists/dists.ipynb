{
 "cells": [
  {
   "cell_type": "code",
   "execution_count": 1,
   "metadata": {},
   "outputs": [
    {
     "name": "stderr",
     "output_type": "stream",
     "text": [
      "/Users/minha/dev/tinova/ai-copyright-portection/.venv/lib/python3.11/site-packages/torchvision/models/_utils.py:208: UserWarning: The parameter 'pretrained' is deprecated since 0.13 and may be removed in the future, please use 'weights' instead.\n",
      "  warnings.warn(\n",
      "/Users/minha/dev/tinova/ai-copyright-portection/.venv/lib/python3.11/site-packages/torchvision/models/_utils.py:223: UserWarning: Arguments other than a weight enum or `None` for 'weights' are deprecated since 0.13 and may be removed in the future. The current behavior is equivalent to passing `weights=VGG16_Weights.IMAGENET1K_V1`. You can also use `weights=VGG16_Weights.DEFAULT` to get the most up-to-date weights.\n",
      "  warnings.warn(msg)\n"
     ]
    },
    {
     "name": "stdout",
     "output_type": "stream",
     "text": [
      "DISTS score: 0.32239896059036255\n"
     ]
    }
   ],
   "source": [
    "from DISTS_pytorch import DISTS\n",
    "import torch\n",
    "from PIL import Image\n",
    "import torchvision.transforms as T\n",
    "\n",
    "PATH = \"../data/images/dataset/\"\n",
    "\n",
    "\n",
    "# 이미지 로딩 및 전처리\n",
    "transform = T.Compose([\n",
    "    T.Resize((256, 256)),\n",
    "    T.ToTensor(),\n",
    "])\n",
    "\n",
    "img1 = transform(Image.open(PATH + \"tiger.jpg\")).unsqueeze(0)\n",
    "img2 = transform(Image.open(PATH + \"fake-tiger.jpg\")).unsqueeze(0)\n",
    "\n",
    "# 모델 로딩\n",
    "model = DISTS()\n",
    "model.eval()\n",
    "\n",
    "# 유사도 계산\n",
    "with torch.no_grad():\n",
    "    dists_score = model(img1, img2).item()\n",
    "\n",
    "print(f\"DISTS score: {dists_score}\")  # 낮을수록 비슷함\n"
   ]
  },
  {
   "cell_type": "code",
   "execution_count": null,
   "metadata": {},
   "outputs": [],
   "source": []
  }
 ],
 "metadata": {
  "kernelspec": {
   "display_name": ".venv",
   "language": "python",
   "name": "python3"
  },
  "language_info": {
   "codemirror_mode": {
    "name": "ipython",
    "version": 3
   },
   "file_extension": ".py",
   "mimetype": "text/x-python",
   "name": "python",
   "nbconvert_exporter": "python",
   "pygments_lexer": "ipython3",
   "version": "3.11.11"
  }
 },
 "nbformat": 4,
 "nbformat_minor": 2
}
